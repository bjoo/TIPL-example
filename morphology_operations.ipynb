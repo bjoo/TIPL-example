{
 "cells": [
  {
   "cell_type": "markdown",
   "id": "a08bed74",
   "metadata": {},
   "source": [
    "## Morphology Operations\n",
    "Morphological function operates on binary mask to change its topology"
   ]
  },
  {
   "cell_type": "code",
   "execution_count": null,
   "id": "7e6cde48",
   "metadata": {},
   "outputs": [],
   "source": [
    "#include \"TIPL/tipl.hpp\" // git clone http://github.com/frankyeh/TIPL/\n",
    "using namespace tipl;"
   ]
  },
  {
   "cell_type": "code",
   "execution_count": null,
   "id": "5b0f1eb3",
   "metadata": {},
   "outputs": [],
   "source": [
    "image<float,3> I;\n",
    "image<unsigned char,3> mask;\n",
    "\n",
    "I.load_from_file<tipl::io::nifti>(\"data/mni_icbm152_t1.nii\");\n",
    "segmentation::otsu(I,mask,255);\n",
    "\n",
    "mask"
   ]
  },
  {
   "cell_type": "code",
   "execution_count": null,
   "id": "2bbc0feb",
   "metadata": {},
   "outputs": [],
   "source": [
    "tipl::morphology::defragment(mask);\n",
    "mask"
   ]
  },
  {
   "cell_type": "code",
   "execution_count": null,
   "id": "d18cc6db",
   "metadata": {},
   "outputs": [],
   "source": [
    "tipl::morphology::smoothing(mask);\n",
    "mask"
   ]
  },
  {
   "cell_type": "code",
   "execution_count": null,
   "id": "781a5421",
   "metadata": {},
   "outputs": [],
   "source": [
    "tipl::morphology::dilation(mask);\n",
    "mask"
   ]
  },
  {
   "cell_type": "code",
   "execution_count": null,
   "id": "585cc9b1-1f16-4976-9ac6-24beaf8998cf",
   "metadata": {},
   "outputs": [],
   "source": []
  }
 ],
 "metadata": {
  "kernelspec": {
   "display_name": "C++14",
   "language": "C++14",
   "name": "xcpp14"
  },
  "language_info": {
   "codemirror_mode": "text/x-c++src",
   "file_extension": ".cpp",
   "mimetype": "text/x-c++src",
   "name": "c++",
   "version": "14"
  }
 },
 "nbformat": 4,
 "nbformat_minor": 5
}
