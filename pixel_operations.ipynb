{
 "cells": [
  {
   "cell_type": "markdown",
   "id": "a08bed74",
   "metadata": {},
   "source": [
    "## Pixel Operations"
   ]
  },
  {
   "cell_type": "code",
   "execution_count": null,
   "id": "7e6cde48",
   "metadata": {},
   "outputs": [],
   "source": [
    "#include \"TIPL/tipl.hpp\" // git clone http://github.com/frankyeh/TIPL/\n",
    "using namespace tipl;"
   ]
  },
  {
   "cell_type": "code",
   "execution_count": null,
   "id": "5b0f1eb3",
   "metadata": {},
   "outputs": [],
   "source": [
    "image<float,3> I;\n",
    "I.load_from_file<tipl::io::nifti>(\"data/mni_icbm152_t1.nii\");\n",
    "I"
   ]
  },
  {
   "cell_type": "code",
   "execution_count": null,
   "id": "b98aac48",
   "metadata": {},
   "outputs": [],
   "source": [
    "I += 100"
   ]
  },
  {
   "cell_type": "code",
   "execution_count": null,
   "id": "eea1b2df-752f-4bba-9c59-51120eda30b8",
   "metadata": {},
   "outputs": [],
   "source": [
    "I *= 0.5f"
   ]
  },
  {
   "cell_type": "code",
   "execution_count": null,
   "id": "251158cd-55d0-4654-acea-71dcdd8d25e8",
   "metadata": {},
   "outputs": [],
   "source": [
    "tipl::normalize(I,255)"
   ]
  },
  {
   "cell_type": "code",
   "execution_count": null,
   "id": "c2291ccc",
   "metadata": {},
   "outputs": [],
   "source": [
    "tipl::negate(I)"
   ]
  },
  {
   "cell_type": "code",
   "execution_count": null,
   "id": "49d04183",
   "metadata": {
    "scrolled": true
   },
   "outputs": [],
   "source": [
    "image<unsigned char,3> mask;\n",
    "segmentation::otsu(I,mask,255);\n",
    "mask"
   ]
  },
  {
   "cell_type": "code",
   "execution_count": null,
   "id": "f3110b35",
   "metadata": {},
   "outputs": [],
   "source": [
    "threshold(I,mask,60);\n",
    "mask"
   ]
  },
  {
   "cell_type": "code",
   "execution_count": null,
   "id": "f00573e9-4adb-4c4b-87e8-e2c7fa8f45e6",
   "metadata": {},
   "outputs": [],
   "source": [
    "I *= mask;"
   ]
  },
  {
   "cell_type": "markdown",
   "id": "90264eb8",
   "metadata": {},
   "source": [
    "## Filters"
   ]
  },
  {
   "cell_type": "code",
   "execution_count": null,
   "id": "fb4d2326",
   "metadata": {},
   "outputs": [],
   "source": [
    "auto J = I;\n",
    "filter::mean(J)"
   ]
  },
  {
   "cell_type": "code",
   "execution_count": null,
   "id": "607d13b5",
   "metadata": {},
   "outputs": [],
   "source": [
    "J = I;\n",
    "filter::canny_edge(J)"
   ]
  },
  {
   "cell_type": "code",
   "execution_count": null,
   "id": "18a82277",
   "metadata": {},
   "outputs": [],
   "source": [
    "J = I;\n",
    "tipl::filter::sobel(J)"
   ]
  },
  {
   "cell_type": "code",
   "execution_count": null,
   "id": "1186e0eb",
   "metadata": {},
   "outputs": [],
   "source": [
    "J = I;\n",
    "tipl::filter::anisotropic_diffusion(J);"
   ]
  },
  {
   "cell_type": "code",
   "execution_count": null,
   "id": "dfe04e18",
   "metadata": {},
   "outputs": [],
   "source": [
    "J = I;\n",
    "tipl::filter::gaussian(J)"
   ]
  }
 ],
 "metadata": {
  "kernelspec": {
   "display_name": "C++14",
   "language": "C++14",
   "name": "xcpp14"
  },
  "language_info": {
   "codemirror_mode": "text/x-c++src",
   "file_extension": ".cpp",
   "mimetype": "text/x-c++src",
   "name": "c++",
   "version": "14"
  }
 },
 "nbformat": 4,
 "nbformat_minor": 5
}
