{
  "nbformat": 4,
  "nbformat_minor": 0,
  "metadata": {
    "colab": {
      "name": "spatial_normalization.ipynb",
      "provenance": [],
      "authorship_tag": "ABX9TyNqaad7xOjJsITqpHinrlfJ",
      "include_colab_link": true
    },
    "kernelspec": {
      "name": "python3",
      "display_name": "Python 3"
    },
    "language_info": {
      "name": "python"
    }
  },
  "cells": [
    {
      "cell_type": "markdown",
      "metadata": {
        "id": "view-in-github",
        "colab_type": "text"
      },
      "source": [
        "<a href=\"https://colab.research.google.com/github/frankyeh/TIPL-example/blob/main/colab/spatial_normalization.ipynb\" target=\"_parent\"><img src=\"https://colab.research.google.com/assets/colab-badge.svg\" alt=\"Open In Colab\"/></a>"
      ]
    },
    {
      "cell_type": "code",
      "metadata": {
        "colab": {
          "base_uri": "https://localhost:8080/"
        },
        "id": "vTTLbUKe1oQP",
        "outputId": "891f39f0-8bff-42ee-bc87-d84505b26ee7"
      },
      "source": [
        "%%shell\n",
        "git clone http://github.com/frankyeh/TIPL\n",
        "git clone http://github.com/frankyeh/TIPL-example"
      ],
      "execution_count": 1,
      "outputs": [
        {
          "output_type": "stream",
          "name": "stdout",
          "text": [
            "Cloning into 'TIPL'...\n",
            "warning: redirecting to https://github.com/frankyeh/TIPL/\n",
            "remote: Enumerating objects: 3337, done.\u001b[K\n",
            "remote: Counting objects: 100% (600/600), done.\u001b[K\n",
            "remote: Compressing objects: 100% (403/403), done.\u001b[K\n",
            "remote: Total 3337 (delta 371), reused 393 (delta 188), pack-reused 2737\u001b[K\n",
            "Receiving objects: 100% (3337/3337), 9.36 MiB | 19.21 MiB/s, done.\n",
            "Resolving deltas: 100% (2359/2359), done.\n",
            "Cloning into 'TIPL-example'...\n",
            "warning: redirecting to https://github.com/frankyeh/TIPL-example/\n",
            "remote: Enumerating objects: 15, done.\u001b[K\n",
            "remote: Counting objects: 100% (15/15), done.\u001b[K\n",
            "remote: Compressing objects: 100% (12/12), done.\u001b[K\n",
            "remote: Total 15 (delta 2), reused 6 (delta 0), pack-reused 0\u001b[K\n",
            "Unpacking objects: 100% (15/15), done.\n"
          ]
        },
        {
          "output_type": "execute_result",
          "data": {
            "text/plain": [
              ""
            ]
          },
          "metadata": {},
          "execution_count": 1
        }
      ]
    },
    {
      "cell_type": "code",
      "metadata": {
        "colab": {
          "base_uri": "https://localhost:8080/"
        },
        "id": "O_cZm-ZQ1zNw",
        "outputId": "8a64d956-4a06-4f5b-c405-c1276fc4108b"
      },
      "source": [
        "%%writefile load_nii.cpp\n",
        "#include \"TIPL/tipl.hpp\"\n",
        "int main(void)\n",
        "{\n",
        "    tipl::image<3> Is,It; // image volume\n",
        "    tipl::vector<3> vs_s,vs_t; // voxel size\n",
        " \n",
        "    tipl::io::nifti nii_s,nii_t;\n",
        " \n",
        "    std::cout << \"loading template t1w\" << std::endl;\n",
        "    if(!nii_t.load_from_file(\"./TIPL-example/data/mni_icbm152_t1.nii\"))\n",
        "    {\n",
        "        std::cout << \"cannot open template t1w\" << std::endl;\n",
        "        return 1;  \n",
        "    }      \n",
        "\n",
        "    std::cout << \"loading subject t1w\" << std::endl;\n",
        "    if(!nii_s.load_from_file(\"./TIPL-example/data/100206_T1w.nii\"))\n",
        "    {\n",
        "        std::cout << \"cannot open subject t1w\" << std::endl;\n",
        "        return 1;  \n",
        "    }      \n",
        "\n",
        "    nii_t >> It;\n",
        "    nii_s >> Is;\n",
        "    std::cout << nii_t << std::endl;\n",
        " \n",
        "    nii_t.get_voxel_size(vs_t);\n",
        "    nii_s.get_voxel_size(vs_s);\n",
        " \n",
        "    tipl::affine_transform<double> T;\n",
        "    std::cout << \"running linear registration using mutual information\" << std::endl;\n",
        "    bool terminated = false;\n",
        "    tipl::reg::linear_mr(It,vs_t,Is,vs_s,T,\n",
        "                                 tipl::reg::affine,\n",
        "                                 tipl::reg::correlation(),\n",
        "                                 terminated);\n",
        "\n",
        "    std::cout << T;\n",
        " \n",
        "    return 0;\n",
        "}"
      ],
      "execution_count": 22,
      "outputs": [
        {
          "output_type": "stream",
          "name": "stdout",
          "text": [
            "Overwriting load_nii.cpp\n"
          ]
        }
      ]
    },
    {
      "cell_type": "code",
      "metadata": {
        "colab": {
          "base_uri": "https://localhost:8080/"
        },
        "id": "KuyOD4FT27cI",
        "outputId": "41fc2ac3-6208-4591-9f86-ed0f19acd06b"
      },
      "source": [
        "%%shell\n",
        "g++ -std=c++14 -pthread load_nii.cpp -o output\n",
        "./output"
      ],
      "execution_count": 23,
      "outputs": [
        {
          "output_type": "stream",
          "name": "stdout",
          "text": [
            "loading template t1w\n",
            "loading subject t1w\n",
            "sizeof_hdr=348\n",
            "ndim_info=0\n",
            "dim[0]=3\n",
            "dim[1]=193\n",
            "dim[2]=229\n",
            "dim[3]=193\n",
            "dim[4]=1\n",
            "dim[5]=1\n",
            "dim[6]=1\n",
            "dim[7]=1\n",
            "intent_p1=0\n",
            "intent_p2=0\n",
            "intent_p3=0\n",
            "intent_code=0\n",
            "datatype=2\n",
            "bitpix=8\n",
            "slice_start=0\n",
            "pixdim[0]=3\n",
            "pixdim[1]=1\n",
            "pixdim[2]=1\n",
            "pixdim[3]=1\n",
            "pixdim[4]=1\n",
            "pixdim[5]=1\n",
            "pixdim[6]=1\n",
            "pixdim[7]=1\n",
            "vox_offset=352\n",
            "scl_slope=1\n",
            "scl_inter=0\n",
            "slice_end=0\n",
            "slice_code=0\n",
            "xyzt_units=0\n",
            "scl_inter=0\n",
            "cal_max=0\n",
            "cal_min=0\n",
            "slice_duration=0\n",
            "toffset=0\n",
            "descrip=\n",
            "aux_file=\n",
            "qform_code=0\n",
            "sform_code=1\n",
            "quatern_b=0\n",
            "quatern_c=1\n",
            "quatern_d=0\n",
            "qoffset_x=0\n",
            "qoffset_y=0\n",
            "qoffset_z=0\n",
            "srow_x[0]=-1\n",
            "srow_x[1]=-0\n",
            "srow_x[2]=0\n",
            "srow_x[3]=96\n",
            "srow_y[0]=-0\n",
            "srow_y[1]=-1\n",
            "srow_y[2]=0\n",
            "srow_y[3]=96\n",
            "srow_z[0]=-0\n",
            "srow_z[1]=-0\n",
            "srow_z[2]=1\n",
            "srow_z[3]=-78\n",
            "intent_name=\n",
            "\n",
            "running linear registration using mutual information\n",
            "translocation:-1.45136 0.843519 -2.48212\n",
            "rotation:-0.0167206 0.0187194 -0.00885637\n",
            "scaling:0.985012 1.01092 0.896856\n",
            "shear:0.013068 0.00603908 0.0588494\n"
          ]
        },
        {
          "output_type": "execute_result",
          "data": {
            "text/plain": [
              ""
            ]
          },
          "metadata": {},
          "execution_count": 23
        }
      ]
    }
  ]
}