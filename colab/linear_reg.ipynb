{
  "nbformat": 4,
  "nbformat_minor": 0,
  "metadata": {
    "colab": {
      "name": "spatial_normalization.ipynb",
      "provenance": [],
      "include_colab_link": true
    },
    "kernelspec": {
      "name": "python3",
      "display_name": "Python 3"
    },
    "language_info": {
      "name": "python"
    }
  },
  "cells": [
    {
      "cell_type": "markdown",
      "metadata": {
        "id": "view-in-github",
        "colab_type": "text"
      },
      "source": [
        "<a href=\"https://colab.research.google.com/github/frankyeh/TIPL-example/blob/main/colab/linear_reg.ipynb\" target=\"_parent\"><img src=\"https://colab.research.google.com/assets/colab-badge.svg\" alt=\"Open In Colab\"/></a>"
      ]
    },
    {
      "cell_type": "code",
      "metadata": {
        "colab": {
          "base_uri": "https://localhost:8080/"
        },
        "id": "vTTLbUKe1oQP",
        "outputId": "d13bf8f7-1ec1-4802-de3b-29076f2fab2e"
      },
      "source": [
        "%%shell\n",
        "git clone http://github.com/frankyeh/TIPL\n",
        "git clone http://github.com/frankyeh/TIPL-example"
      ],
      "execution_count": 6,
      "outputs": [
        {
          "output_type": "stream",
          "name": "stdout",
          "text": [
            "Cloning into 'TIPL'...\n",
            "warning: redirecting to https://github.com/frankyeh/TIPL/\n",
            "remote: Enumerating objects: 3790, done.\u001b[K\n",
            "remote: Counting objects: 100% (1053/1053), done.\u001b[K\n",
            "remote: Compressing objects: 100% (717/717), done.\u001b[K\n",
            "remote: Total 3790 (delta 699), reused 647 (delta 325), pack-reused 2737\u001b[K\n",
            "Receiving objects: 100% (3790/3790), 9.46 MiB | 24.70 MiB/s, done.\n",
            "Resolving deltas: 100% (2687/2687), done.\n",
            "Cloning into 'TIPL-example'...\n",
            "warning: redirecting to https://github.com/frankyeh/TIPL-example/\n",
            "remote: Enumerating objects: 249, done.\u001b[K\n",
            "remote: Counting objects: 100% (249/249), done.\u001b[K\n",
            "remote: Compressing objects: 100% (185/185), done.\u001b[K\n",
            "remote: Total 249 (delta 117), reused 176 (delta 58), pack-reused 0\u001b[K\n",
            "Receiving objects: 100% (249/249), 21.81 MiB | 26.97 MiB/s, done.\n",
            "Resolving deltas: 100% (117/117), done.\n"
          ]
        },
        {
          "output_type": "execute_result",
          "data": {
            "text/plain": [
              ""
            ]
          },
          "metadata": {},
          "execution_count": 6
        }
      ]
    },
    {
      "cell_type": "code",
      "metadata": {
        "colab": {
          "base_uri": "https://localhost:8080/"
        },
        "id": "O_cZm-ZQ1zNw",
        "outputId": "08b4ceee-95fe-4f87-e8de-7e06d23f9fa1"
      },
      "source": [
        "%%shell\n",
        "cp TIPL-example/cpp/linear_reg.cpp .\n",
        "cat linear_reg.cpp"
      ],
      "execution_count": 7,
      "outputs": [
        {
          "output_type": "stream",
          "name": "stdout",
          "text": [
            "#include \"TIPL/tipl.hpp\"\n",
            "int main(void)\n",
            "{\n",
            "    tipl::image<3> Is,It; // image volume\n",
            "    tipl::vector<3> vs_s,vs_t; // voxel size\n",
            "\n",
            "    tipl::io::nifti nii_s,nii_t;\n",
            "    if(!nii_t.load_from_file(\"./TIPL-example/data/mni_icbm152_t1.nii\") ||\n",
            "       !nii_s.load_from_file(\"./TIPL-example/data/100206_T1w.nii\"))\n",
            "    {\n",
            "        std::cout << \"cannot open data\" << std::endl;\n",
            "        return 1;\n",
            "    }\n",
            "\n",
            "    nii_t >> It;\n",
            "    nii_s >> Is;\n",
            "    std::cout << nii_t << std::endl;\n",
            "\n",
            "    nii_t.get_voxel_size(vs_t);\n",
            "    nii_s.get_voxel_size(vs_s);\n",
            "\n",
            "    tipl::affine_transform<float> T;\n",
            "    std::cout << \"running linear registration using correlation\" << std::endl;\n",
            "    bool terminated = false;\n",
            "    tipl::reg::linear(It,vs_t,Is,vs_s,T,\n",
            "                                 tipl::reg::affine,\n",
            "                                 tipl::reg::correlation(),\n",
            "                                 terminated,0.01);\n",
            "\n",
            "    std::cout << T;\n",
            "\n",
            "    return 0;\n",
            "}\n"
          ]
        },
        {
          "output_type": "execute_result",
          "data": {
            "text/plain": [
              ""
            ]
          },
          "metadata": {},
          "execution_count": 7
        }
      ]
    },
    {
      "cell_type": "code",
      "metadata": {
        "colab": {
          "base_uri": "https://localhost:8080/"
        },
        "id": "KuyOD4FT27cI",
        "outputId": "39f70cbd-2091-4750-a466-3ebbf19acec3"
      },
      "source": [
        "%%shell\n",
        "g++ -std=c++14 -pthread linear_reg.cpp -o output\n",
        "./output"
      ],
      "execution_count": 8,
      "outputs": [
        {
          "output_type": "stream",
          "name": "stdout",
          "text": [
            "sizeof_hdr=348\n",
            "ndim_info=0\n",
            "dim[0]=3\n",
            "dim[1]=193\n",
            "dim[2]=229\n",
            "dim[3]=193\n",
            "dim[4]=1\n",
            "dim[5]=1\n",
            "dim[6]=1\n",
            "dim[7]=1\n",
            "intent_p1=0\n",
            "intent_p2=0\n",
            "intent_p3=0\n",
            "intent_code=0\n",
            "datatype=2\n",
            "bitpix=8\n",
            "slice_start=0\n",
            "pixdim[0]=3\n",
            "pixdim[1]=1\n",
            "pixdim[2]=1\n",
            "pixdim[3]=1\n",
            "pixdim[4]=1\n",
            "pixdim[5]=1\n",
            "pixdim[6]=1\n",
            "pixdim[7]=1\n",
            "vox_offset=352\n",
            "scl_slope=1\n",
            "scl_inter=0\n",
            "slice_end=0\n",
            "slice_code=0\n",
            "xyzt_units=0\n",
            "scl_inter=0\n",
            "cal_max=0\n",
            "cal_min=0\n",
            "slice_duration=0\n",
            "toffset=0\n",
            "descrip=\n",
            "aux_file=\n",
            "qform_code=0\n",
            "sform_code=1\n",
            "quatern_b=0\n",
            "quatern_c=1\n",
            "quatern_d=0\n",
            "qoffset_x=0\n",
            "qoffset_y=0\n",
            "qoffset_z=0\n",
            "srow_x[0]=-1\n",
            "srow_x[1]=-0\n",
            "srow_x[2]=0\n",
            "srow_x[3]=96\n",
            "srow_y[0]=-0\n",
            "srow_y[1]=-1\n",
            "srow_y[2]=0\n",
            "srow_y[3]=96\n",
            "srow_z[0]=-0\n",
            "srow_z[1]=-0\n",
            "srow_z[2]=1\n",
            "srow_z[3]=-78\n",
            "intent_name=\n",
            "\n",
            "running linear registration using correlation\n",
            "translocation:-0.188173 -0.270578 -0.102747\n",
            "rotation:0.00365602 -0.0113438 5.59986e-05\n",
            "scaling:0.987684 0.988885 0.940182\n",
            "shear:-0.034706 0.00313956 -0.0417215\n"
          ]
        },
        {
          "output_type": "execute_result",
          "data": {
            "text/plain": [
              ""
            ]
          },
          "metadata": {},
          "execution_count": 8
        }
      ]
    }
  ]
}