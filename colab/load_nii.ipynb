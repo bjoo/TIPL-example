{
  "nbformat": 4,
  "nbformat_minor": 0,
  "metadata": {
    "colab": {
      "name": "load_nii.ipynb",
      "provenance": [],
      "collapsed_sections": [],
      "authorship_tag": "ABX9TyOZQKrF9fIdUuS73GOc5+2c",
      "include_colab_link": true
    },
    "kernelspec": {
      "name": "python3",
      "display_name": "Python 3"
    },
    "language_info": {
      "name": "python"
    }
  },
  "cells": [
    {
      "cell_type": "markdown",
      "metadata": {
        "id": "view-in-github",
        "colab_type": "text"
      },
      "source": [
        "<a href=\"https://colab.research.google.com/github/frankyeh/TIPL-example/blob/main/colab/load_nii.ipynb\" target=\"_parent\"><img src=\"https://colab.research.google.com/assets/colab-badge.svg\" alt=\"Open In Colab\"/></a>"
      ]
    },
    {
      "cell_type": "code",
      "metadata": {
        "colab": {
          "base_uri": "https://localhost:8080/"
        },
        "id": "dFQkYaAavpJg",
        "outputId": "ee5b4ad3-e2d8-4b4b-b598-f4392a412c35"
      },
      "source": [
        "%%shell\n",
        "git clone http://github.com/frankyeh/TIPL\n",
        "git clone http://github.com/frankyeh/TIPL-example"
      ],
      "execution_count": 1,
      "outputs": [
        {
          "output_type": "stream",
          "name": "stdout",
          "text": [
            "Cloning into 'TIPL'...\n",
            "warning: redirecting to https://github.com/frankyeh/TIPL/\n",
            "remote: Enumerating objects: 3337, done.\u001b[K\n",
            "remote: Counting objects: 100% (600/600), done.\u001b[K\n",
            "remote: Compressing objects: 100% (403/403), done.\u001b[K\n",
            "remote: Total 3337 (delta 371), reused 393 (delta 188), pack-reused 2737\u001b[K\n",
            "Receiving objects: 100% (3337/3337), 9.36 MiB | 20.06 MiB/s, done.\n",
            "Resolving deltas: 100% (2359/2359), done.\n",
            "Cloning into 'TIPL-example'...\n",
            "warning: redirecting to https://github.com/frankyeh/TIPL-example/\n",
            "remote: Enumerating objects: 11, done.\u001b[K\n",
            "remote: Counting objects: 100% (11/11), done.\u001b[K\n",
            "remote: Compressing objects: 100% (9/9), done.\u001b[K\n",
            "remote: Total 11 (delta 1), reused 6 (delta 0), pack-reused 0\u001b[K\n",
            "Unpacking objects: 100% (11/11), done.\n"
          ]
        },
        {
          "output_type": "execute_result",
          "data": {
            "text/plain": [
              ""
            ]
          },
          "metadata": {},
          "execution_count": 1
        }
      ]
    },
    {
      "cell_type": "code",
      "metadata": {
        "colab": {
          "base_uri": "https://localhost:8080/"
        },
        "id": "DVm4-Sw8sChe",
        "outputId": "85d6fee1-c063-4f3a-8265-5471077584aa"
      },
      "source": [
        "%%writefile load_nii.cpp\n",
        "#include \"TIPL/tipl.hpp\"\n",
        "int main(void)\n",
        "{\n",
        "    tipl::image<3> I;\n",
        "    tipl::io::nifti nii;\n",
        "    if(!nii.load_from_file(\"./TIPL-example/data/mni_icbm152_t1.nii\"))\n",
        "    {\n",
        "        std::cout << \"cannot open file\" << std::endl;\n",
        "        return 1;  \n",
        "    }    \n",
        "    nii >> I;\n",
        "    std::cout << nii << std::endl;\n",
        "    return 0;\n",
        "}"
      ],
      "execution_count": 2,
      "outputs": [
        {
          "output_type": "stream",
          "name": "stdout",
          "text": [
            "Writing load_nii.cpp\n"
          ]
        }
      ]
    },
    {
      "cell_type": "code",
      "metadata": {
        "colab": {
          "base_uri": "https://localhost:8080/"
        },
        "id": "8vnK_IHAsyLw",
        "outputId": "074d328a-965c-4aae-d9e9-2ba1004a51de"
      },
      "source": [
        "%%shell\n",
        "g++ -std=c++14 -pthread load_nii.cpp -o output\n",
        "./output"
      ],
      "execution_count": 5,
      "outputs": [
        {
          "output_type": "stream",
          "name": "stdout",
          "text": [
            "sizeof_hdr=348\n",
            "ndim_info=0\n",
            "dim[0]=3\n",
            "dim[1]=193\n",
            "dim[2]=229\n",
            "dim[3]=193\n",
            "dim[4]=1\n",
            "dim[5]=1\n",
            "dim[6]=1\n",
            "dim[7]=1\n",
            "intent_p1=0\n",
            "intent_p2=0\n",
            "intent_p3=0\n",
            "intent_code=0\n",
            "datatype=2\n",
            "bitpix=8\n",
            "slice_start=0\n",
            "pixdim[0]=3\n",
            "pixdim[1]=1\n",
            "pixdim[2]=1\n",
            "pixdim[3]=1\n",
            "pixdim[4]=1\n",
            "pixdim[5]=1\n",
            "pixdim[6]=1\n",
            "pixdim[7]=1\n",
            "vox_offset=352\n",
            "scl_slope=1\n",
            "scl_inter=0\n",
            "slice_end=0\n",
            "slice_code=0\n",
            "xyzt_units=0\n",
            "scl_inter=0\n",
            "cal_max=0\n",
            "cal_min=0\n",
            "slice_duration=0\n",
            "toffset=0\n",
            "descrip=\n",
            "aux_file=\n",
            "qform_code=0\n",
            "sform_code=1\n",
            "quatern_b=0\n",
            "quatern_c=1\n",
            "quatern_d=0\n",
            "qoffset_x=0\n",
            "qoffset_y=0\n",
            "qoffset_z=0\n",
            "srow_x[0]=-1\n",
            "srow_x[1]=-0\n",
            "srow_x[2]=0\n",
            "srow_x[3]=96\n",
            "srow_y[0]=-0\n",
            "srow_y[1]=-1\n",
            "srow_y[2]=0\n",
            "srow_y[3]=96\n",
            "srow_z[0]=-0\n",
            "srow_z[1]=-0\n",
            "srow_z[2]=1\n",
            "srow_z[3]=-78\n",
            "intent_name=\n",
            "\n"
          ]
        },
        {
          "output_type": "execute_result",
          "data": {
            "text/plain": [
              ""
            ]
          },
          "metadata": {},
          "execution_count": 5
        }
      ]
    },
    {
      "cell_type": "code",
      "metadata": {
        "colab": {
          "resources": {
            "http://localhost:8080/slice50.bmp": {
              "data": "CjwhRE9DVFlQRSBodG1sPgo8aHRtbCBsYW5nPWVuPgogIDxtZXRhIGNoYXJzZXQ9dXRmLTg+CiAgPG1ldGEgbmFtZT12aWV3cG9ydCBjb250ZW50PSJpbml0aWFsLXNjYWxlPTEsIG1pbmltdW0tc2NhbGU9MSwgd2lkdGg9ZGV2aWNlLXdpZHRoIj4KICA8dGl0bGU+RXJyb3IgNDA0IChOb3QgRm91bmQpISExPC90aXRsZT4KICA8c3R5bGU+CiAgICAqe21hcmdpbjowO3BhZGRpbmc6MH1odG1sLGNvZGV7Zm9udDoxNXB4LzIycHggYXJpYWwsc2Fucy1zZXJpZn1odG1se2JhY2tncm91bmQ6I2ZmZjtjb2xvcjojMjIyO3BhZGRpbmc6MTVweH1ib2R5e21hcmdpbjo3JSBhdXRvIDA7bWF4LXdpZHRoOjM5MHB4O21pbi1oZWlnaHQ6MTgwcHg7cGFkZGluZzozMHB4IDAgMTVweH0qID4gYm9keXtiYWNrZ3JvdW5kOnVybCgvL3d3dy5nb29nbGUuY29tL2ltYWdlcy9lcnJvcnMvcm9ib3QucG5nKSAxMDAlIDVweCBuby1yZXBlYXQ7cGFkZGluZy1yaWdodDoyMDVweH1we21hcmdpbjoxMXB4IDAgMjJweDtvdmVyZmxvdzpoaWRkZW59aW5ze2NvbG9yOiM3Nzc7dGV4dC1kZWNvcmF0aW9uOm5vbmV9YSBpbWd7Ym9yZGVyOjB9QG1lZGlhIHNjcmVlbiBhbmQgKG1heC13aWR0aDo3NzJweCl7Ym9keXtiYWNrZ3JvdW5kOm5vbmU7bWFyZ2luLXRvcDowO21heC13aWR0aDpub25lO3BhZGRpbmctcmlnaHQ6MH19I2xvZ297YmFja2dyb3VuZDp1cmwoLy93d3cuZ29vZ2xlLmNvbS9pbWFnZXMvbG9nb3MvZXJyb3JwYWdlL2Vycm9yX2xvZ28tMTUweDU0LnBuZykgbm8tcmVwZWF0O21hcmdpbi1sZWZ0Oi01cHh9QG1lZGlhIG9ubHkgc2NyZWVuIGFuZCAobWluLXJlc29sdXRpb246MTkyZHBpKXsjbG9nb3tiYWNrZ3JvdW5kOnVybCgvL3d3dy5nb29nbGUuY29tL2ltYWdlcy9sb2dvcy9lcnJvcnBhZ2UvZXJyb3JfbG9nby0xNTB4NTQtMngucG5nKSBuby1yZXBlYXQgMCUgMCUvMTAwJSAxMDAlOy1tb3otYm9yZGVyLWltYWdlOnVybCgvL3d3dy5nb29nbGUuY29tL2ltYWdlcy9sb2dvcy9lcnJvcnBhZ2UvZXJyb3JfbG9nby0xNTB4NTQtMngucG5nKSAwfX1AbWVkaWEgb25seSBzY3JlZW4gYW5kICgtd2Via2l0LW1pbi1kZXZpY2UtcGl4ZWwtcmF0aW86Mil7I2xvZ297YmFja2dyb3VuZDp1cmwoLy93d3cuZ29vZ2xlLmNvbS9pbWFnZXMvbG9nb3MvZXJyb3JwYWdlL2Vycm9yX2xvZ28tMTUweDU0LTJ4LnBuZykgbm8tcmVwZWF0Oy13ZWJraXQtYmFja2dyb3VuZC1zaXplOjEwMCUgMTAwJX19I2xvZ297ZGlzcGxheTppbmxpbmUtYmxvY2s7aGVpZ2h0OjU0cHg7d2lkdGg6MTUwcHh9CiAgPC9zdHlsZT4KICA8YSBocmVmPS8vd3d3Lmdvb2dsZS5jb20vPjxzcGFuIGlkPWxvZ28gYXJpYS1sYWJlbD1Hb29nbGU+PC9zcGFuPjwvYT4KICA8cD48Yj40MDQuPC9iPiA8aW5zPlRoYXTigJlzIGFuIGVycm9yLjwvaW5zPgogIDxwPiAgPGlucz5UaGF04oCZcyBhbGwgd2Uga25vdy48L2lucz4K",
              "ok": false,
              "headers": [
                [
                  "content-length",
                  "1449"
                ],
                [
                  "content-type",
                  "text/html; charset=utf-8"
                ]
              ],
              "status": 404,
              "status_text": ""
            }
          },
          "base_uri": "https://localhost:8080/",
          "height": 37
        },
        "id": "niyzHR_ZvsZx",
        "outputId": "0b8033fb-3096-4fa6-f151-bad383b7a76d"
      },
      "source": [
        ""
      ],
      "execution_count": null,
      "outputs": [
        {
          "output_type": "display_data",
          "data": {
            "text/html": [
              "<img src='../slice50.bmp' />"
            ],
            "text/plain": [
              "<IPython.core.display.HTML object>"
            ]
          },
          "metadata": {}
        }
      ]
    }
  ]
}