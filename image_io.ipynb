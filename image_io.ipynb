{
 "cells": [
  {
   "cell_type": "markdown",
   "id": "a08bed74",
   "metadata": {},
   "source": [
    "# Image IO\n",
    "## Load NIFTI file\n",
    "This example shows how to use tipl::io::nifti to load a nifti file and visualize one axial slice."
   ]
  },
  {
   "cell_type": "code",
   "execution_count": 1,
   "id": "7e6cde48",
   "metadata": {},
   "outputs": [],
   "source": [
    "#include \"TIPL/tipl.hpp\" // git clone http://github.com/frankyeh/TIPL/"
   ]
  },
  {
   "cell_type": "code",
   "execution_count": 3,
   "id": "5b0f1eb3",
   "metadata": {},
   "outputs": [
    {
     "name": "stderr",
     "output_type": "stream",
     "text": [
      "input_line_9:2:18: error: no matching constructor for initialization of 'tipl::io::nifti' (aka 'nifti_base<>')\n",
      " tipl::io::nifti nii;\n",
      "                 ^\n",
      "./TIPL/reg/../io/nifti.hpp:471:5: note: candidate constructor not viable: requires single argument 'rhs', but no arguments were provided\n",
      "    nifti_base(const nifti_base& rhs);\n",
      "    ^\n"
     ]
    },
    {
     "ename": "Interpreter Error",
     "evalue": "",
     "output_type": "error",
     "traceback": [
      "Interpreter Error: "
     ]
    }
   ],
   "source": [
    "tipl::io::nifti nii;\n",
    "if(!nii.load_from_file(\"data/mni_icbm152_t1.nii\"))\n",
    "    return;\n",
    "nii"
   ]
  },
  {
   "cell_type": "code",
   "execution_count": 3,
   "id": "700183ef",
   "metadata": {},
   "outputs": [
    {
     "data": {
      "text/plain": [
       "197"
      ]
     },
     "execution_count": 3,
     "metadata": {},
     "output_type": "execute_result"
    }
   ],
   "source": []
  },
  {
   "cell_type": "code",
   "execution_count": 4,
   "id": "83111e09",
   "metadata": {},
   "outputs": [
    {
     "data": {
      "text/plain": [
       "\"mnc2nii mni_icbm152_nlin_asym_09a/mni_icbm152_t1_tal_nlin_asym_09a.mnc mni_icbm\""
      ]
     },
     "execution_count": 4,
     "metadata": {},
     "output_type": "execute_result"
    }
   ],
   "source": [
    "nii"
   ]
  },
  {
   "cell_type": "code",
   "execution_count": 5,
   "id": "3a1d1f4e",
   "metadata": {},
   "outputs": [
    {
     "data": {
      "text/plain": [
       "1 1 1 "
      ]
     },
     "execution_count": 5,
     "metadata": {},
     "output_type": "execute_result"
    }
   ],
   "source": [
    "tipl::vector<3,float> vs;\n",
    "nii.get_voxel_size(vs);\n",
    "vs"
   ]
  }
 ],
 "metadata": {
  "kernelspec": {
   "display_name": "C++14",
   "language": "C++14",
   "name": "xcpp14"
  },
  "language_info": {
   "codemirror_mode": "text/x-c++src",
   "file_extension": ".cpp",
   "mimetype": "text/x-c++src",
   "name": "c++",
   "version": "14"
  }
 },
 "nbformat": 4,
 "nbformat_minor": 5
}
