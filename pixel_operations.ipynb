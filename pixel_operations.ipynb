{
 "cells": [
  {
   "cell_type": "markdown",
   "id": "a08bed74",
   "metadata": {},
   "source": [
    "## Pixel Operations"
   ]
  },
  {
   "cell_type": "code",
   "execution_count": null,
   "id": "7e6cde48",
   "metadata": {},
   "outputs": [],
   "source": [
    "#include \"TIPL/tipl.hpp\" // git clone http://github.com/frankyeh/TIPL/\n",
    "using namespace tipl;"
   ]
  },
  {
   "cell_type": "code",
   "execution_count": null,
   "id": "5b0f1eb3",
   "metadata": {},
   "outputs": [],
   "source": [
    "image<float,3> I;\n",
    "I.load_from_file<tipl::io::nifti>(\"data/mni_icbm152_t1.nii\");\n",
    "I"
   ]
  },
  {
   "cell_type": "code",
   "execution_count": null,
   "id": "b98aac48",
   "metadata": {},
   "outputs": [],
   "source": [
    "tipl::normalize(I,255)"
   ]
  },
  {
   "cell_type": "code",
   "execution_count": null,
   "id": "c2291ccc",
   "metadata": {},
   "outputs": [],
   "source": [
    "tipl::negate(I)"
   ]
  },
  {
   "cell_type": "code",
   "execution_count": null,
   "id": "49d04183",
   "metadata": {
    "scrolled": true
   },
   "outputs": [],
   "source": [
    "tipl::image<unsigned char,3> mask;\n",
    "tipl::segmentation::otsu(I,mask,255);\n",
    "mask"
   ]
  },
  {
   "cell_type": "code",
   "execution_count": null,
   "id": "f3110b35",
   "metadata": {},
   "outputs": [],
   "source": [
    "tipl::threshold(I,mask,160)"
   ]
  },
  {
   "cell_type": "markdown",
   "id": "90264eb8",
   "metadata": {},
   "source": [
    "## Filters"
   ]
  },
  {
   "cell_type": "code",
   "execution_count": null,
   "id": "fb4d2326",
   "metadata": {},
   "outputs": [],
   "source": [
    "auto J = I;\n",
    "filter::mean(J)"
   ]
  },
  {
   "cell_type": "code",
   "execution_count": null,
   "id": "607d13b5",
   "metadata": {},
   "outputs": [],
   "source": [
    "J = I\n",
    "filter::canny_edge(J)"
   ]
  },
  {
   "cell_type": "code",
   "execution_count": null,
   "id": "18a82277",
   "metadata": {},
   "outputs": [],
   "source": [
    "J = I\n",
    "tipl::filter::sobel(J)"
   ]
  },
  {
   "cell_type": "code",
   "execution_count": null,
   "id": "1186e0eb",
   "metadata": {},
   "outputs": [],
   "source": [
    "J = I\n",
    "tipl::filter::anisotropic_diffusion(J);"
   ]
  },
  {
   "cell_type": "code",
   "execution_count": null,
   "id": "dfe04e18",
   "metadata": {},
   "outputs": [],
   "source": [
    "J = I\n",
    "tipl::filter::gaussian(J)"
   ]
  },
  {
   "cell_type": "code",
   "execution_count": null,
   "id": "0d826c50-b1d9-46ac-9cbc-403c96ac016a",
   "metadata": {},
   "outputs": [],
   "source": []
  },
  {
   "cell_type": "code",
   "execution_count": null,
   "id": "b14597af-d06f-4a99-93e4-9eef94243c70",
   "metadata": {},
   "outputs": [],
   "source": []
  },
  {
   "cell_type": "code",
   "execution_count": null,
   "id": "7c8780e9-b8f3-4cf3-ae2f-9d680d71666f",
   "metadata": {},
   "outputs": [],
   "source": []
  }
 ],
 "metadata": {
  "kernelspec": {
   "display_name": "C++14",
   "language": "C++14",
   "name": "xcpp14"
  },
  "language_info": {
   "codemirror_mode": "text/x-c++src",
   "file_extension": ".cpp",
   "mimetype": "text/x-c++src",
   "name": "c++",
   "version": "14"
  }
 },
 "nbformat": 4,
 "nbformat_minor": 5
}
